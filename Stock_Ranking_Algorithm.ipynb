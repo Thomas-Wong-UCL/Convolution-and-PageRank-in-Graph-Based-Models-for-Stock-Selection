{
  "nbformat": 4,
  "nbformat_minor": 0,
  "metadata": {
    "colab": {
      "provenance": []
    },
    "kernelspec": {
      "name": "python3",
      "display_name": "Python 3"
    },
    "language_info": {
      "name": "python"
    }
  },
  "cells": [
    {
      "cell_type": "code",
      "source": [
        "pip install yfinance"
      ],
      "metadata": {
        "colab": {
          "base_uri": "https://localhost:8080/"
        },
        "id": "8XhVlwyewNK1",
        "outputId": "761c76ad-c47e-4b58-f522-3668977bcb56"
      },
      "execution_count": null,
      "outputs": [
        {
          "output_type": "stream",
          "name": "stdout",
          "text": [
            "Requirement already satisfied: yfinance in /usr/local/lib/python3.11/dist-packages (0.2.63)\n",
            "Requirement already satisfied: pandas>=1.3.0 in /usr/local/lib/python3.11/dist-packages (from yfinance) (2.2.2)\n",
            "Requirement already satisfied: numpy>=1.16.5 in /usr/local/lib/python3.11/dist-packages (from yfinance) (2.0.2)\n",
            "Requirement already satisfied: requests>=2.31 in /usr/local/lib/python3.11/dist-packages (from yfinance) (2.32.3)\n",
            "Requirement already satisfied: multitasking>=0.0.7 in /usr/local/lib/python3.11/dist-packages (from yfinance) (0.0.11)\n",
            "Requirement already satisfied: platformdirs>=2.0.0 in /usr/local/lib/python3.11/dist-packages (from yfinance) (4.3.8)\n",
            "Requirement already satisfied: pytz>=2022.5 in /usr/local/lib/python3.11/dist-packages (from yfinance) (2025.2)\n",
            "Requirement already satisfied: frozendict>=2.3.4 in /usr/local/lib/python3.11/dist-packages (from yfinance) (2.4.6)\n",
            "Requirement already satisfied: peewee>=3.16.2 in /usr/local/lib/python3.11/dist-packages (from yfinance) (3.18.1)\n",
            "Requirement already satisfied: beautifulsoup4>=4.11.1 in /usr/local/lib/python3.11/dist-packages (from yfinance) (4.13.4)\n",
            "Requirement already satisfied: curl_cffi>=0.7 in /usr/local/lib/python3.11/dist-packages (from yfinance) (0.11.4)\n",
            "Requirement already satisfied: protobuf>=3.19.0 in /usr/local/lib/python3.11/dist-packages (from yfinance) (5.29.5)\n",
            "Requirement already satisfied: websockets>=13.0 in /usr/local/lib/python3.11/dist-packages (from yfinance) (15.0.1)\n",
            "Requirement already satisfied: soupsieve>1.2 in /usr/local/lib/python3.11/dist-packages (from beautifulsoup4>=4.11.1->yfinance) (2.7)\n",
            "Requirement already satisfied: typing-extensions>=4.0.0 in /usr/local/lib/python3.11/dist-packages (from beautifulsoup4>=4.11.1->yfinance) (4.14.0)\n",
            "Requirement already satisfied: cffi>=1.12.0 in /usr/local/lib/python3.11/dist-packages (from curl_cffi>=0.7->yfinance) (1.17.1)\n",
            "Requirement already satisfied: certifi>=2024.2.2 in /usr/local/lib/python3.11/dist-packages (from curl_cffi>=0.7->yfinance) (2025.6.15)\n",
            "Requirement already satisfied: python-dateutil>=2.8.2 in /usr/local/lib/python3.11/dist-packages (from pandas>=1.3.0->yfinance) (2.9.0.post0)\n",
            "Requirement already satisfied: tzdata>=2022.7 in /usr/local/lib/python3.11/dist-packages (from pandas>=1.3.0->yfinance) (2025.2)\n",
            "Requirement already satisfied: charset-normalizer<4,>=2 in /usr/local/lib/python3.11/dist-packages (from requests>=2.31->yfinance) (3.4.2)\n",
            "Requirement already satisfied: idna<4,>=2.5 in /usr/local/lib/python3.11/dist-packages (from requests>=2.31->yfinance) (3.10)\n",
            "Requirement already satisfied: urllib3<3,>=1.21.1 in /usr/local/lib/python3.11/dist-packages (from requests>=2.31->yfinance) (2.4.0)\n",
            "Requirement already satisfied: pycparser in /usr/local/lib/python3.11/dist-packages (from cffi>=1.12.0->curl_cffi>=0.7->yfinance) (2.22)\n",
            "Requirement already satisfied: six>=1.5 in /usr/local/lib/python3.11/dist-packages (from python-dateutil>=2.8.2->pandas>=1.3.0->yfinance) (1.17.0)\n"
          ]
        }
      ]
    },
    {
      "cell_type": "code",
      "source": [
        "import yfinance as yf\n",
        "import numpy as np\n",
        "import networkx as nx\n",
        "\n",
        "def stock_volatility(symbol,\n",
        "                     start_date=\"2020-02-14\",\n",
        "                     end_date=\"2020-04-14\",\n",
        "                     interval=\"1d\"):\n",
        "    df = yf.download(symbol,\n",
        "                     start=start_date,\n",
        "                     end=end_date,\n",
        "                     interval=interval,\n",
        "                     progress=False)\n",
        "    daily_range = df[\"High\"] - df[\"Low\"]\n",
        "    return daily_range.diff().abs().sum()\n",
        "\n",
        "def stock_marketcap(symbols):\n",
        "    \"\"\"\n",
        "    Return a list of market-caps (in billions USD) for each ticker in `symbols`,\n",
        "    using yfinance’s .info[\"marketCap\"].\n",
        "    \"\"\"\n",
        "    caps = []\n",
        "    for sym in symbols:\n",
        "        info = yf.Ticker(sym).info\n",
        "        mc = info.get(\"marketCap\", None)\n",
        "        if mc is None:\n",
        "            caps.append(np.nan)\n",
        "        else:\n",
        "            # convert raw marketCap (e.g. 450_000_000_000) to billions\n",
        "            caps.append(mc / 1e9)\n",
        "    return caps\n",
        "\n",
        "def stock_coefficient(market_caps):\n",
        "    m = len(market_caps)\n",
        "    M = np.zeros((m, m))\n",
        "    for i in range(m):\n",
        "        for j in range(m):\n",
        "            M[i, j] = market_caps[i] / market_caps[j]\n",
        "    return M\n",
        "\n",
        "def stock_graph_coefficient(coeff_matrix):\n",
        "    A = np.ones_like(coeff_matrix) - np.eye(coeff_matrix.shape[0])\n",
        "    return A * coeff_matrix\n",
        "\n",
        "def stock_volatility_matrix(symbols, start_date, end_date, interval):\n",
        "    vols = [stock_volatility(sym, start_date, end_date, interval)\n",
        "            for sym in symbols]\n",
        "    return np.diag(vols), vols"
      ],
      "metadata": {
        "id": "1IcfPixJzcGf"
      },
      "execution_count": 31,
      "outputs": []
    },
    {
      "cell_type": "code",
      "source": [
        "def Stock_Ranking_Algo_with_Convolution_and_PageRank(symbols,\n",
        "                                                     start_date=\"2020-02-14\",\n",
        "                                                     end_date=\"2020-04-14\",\n",
        "                                                     interval=\"1d\"):\n",
        "    # Step 1: volatility\n",
        "    V_mat, vols = stock_volatility_matrix(symbols, start_date, end_date, interval)\n",
        "    # Step 2: market caps via yfinance\n",
        "    caps = stock_marketcap(symbols)\n",
        "    # Step 3: pairwise cap ratios\n",
        "    coeff = stock_coefficient(caps)\n",
        "    # Step 4: build weighted adjacency (no self-loops)\n",
        "    A = stock_graph_coefficient(coeff)\n",
        "    # Step 5: convolution = A · vols\n",
        "    conv_vol = A.dot(np.array(vols))\n",
        "    # Step 6: build directed graph for PageRank\n",
        "    G = nx.DiGraph()\n",
        "    n = len(symbols)\n",
        "    for i in range(n):\n",
        "        for j in range(n):\n",
        "            if i != j:\n",
        "                G.add_edge(symbols[j], symbols[i], weight=A[i, j])\n",
        "    # personalization = normalized convolved vols\n",
        "    p = {symbols[i]: conv_vol[i].item() for i in range(n)}\n",
        "    total = sum(p.values())\n",
        "    p = {k: v/total for k, v in p.items()}\n",
        "\n",
        "\n",
        "    # Step 7: run PageRank\n",
        "    pr = nx.pagerank(G, weight=\"weight\", personalization=p)\n",
        "    # Return tickers sorted by score descending\n",
        "    return sorted(pr.items(), key=lambda x: x[1], reverse=True)"
      ],
      "metadata": {
        "id": "zJJGXtNL3qCx"
      },
      "execution_count": 32,
      "outputs": []
    },
    {
      "cell_type": "code",
      "source": [
        "tickers = [\"TSLA\", \"GM\", \"F\", \"VWAGY\", \"TM\"]\n",
        "Stock_Ranking_Algo_with_Convolution_and_PageRank(tickers, start_date=\"2025-01-01\", end_date=\"2025-06-29\",interval=\"1d\")"
      ],
      "metadata": {
        "colab": {
          "base_uri": "https://localhost:8080/"
        },
        "id": "8sub3_KK31FY",
        "outputId": "4a1622ba-a7c4-49f4-d880-9b7cb2b19737"
      },
      "execution_count": 36,
      "outputs": [
        {
          "output_type": "stream",
          "name": "stderr",
          "text": [
            "/tmp/ipython-input-31-4265138506.py:9: FutureWarning: YF.download() has changed argument auto_adjust default to True\n",
            "  df = yf.download(symbol,\n",
            "/tmp/ipython-input-31-4265138506.py:9: FutureWarning: YF.download() has changed argument auto_adjust default to True\n",
            "  df = yf.download(symbol,\n",
            "/tmp/ipython-input-31-4265138506.py:9: FutureWarning: YF.download() has changed argument auto_adjust default to True\n",
            "  df = yf.download(symbol,\n",
            "/tmp/ipython-input-31-4265138506.py:9: FutureWarning: YF.download() has changed argument auto_adjust default to True\n",
            "  df = yf.download(symbol,\n",
            "/tmp/ipython-input-31-4265138506.py:9: FutureWarning: YF.download() has changed argument auto_adjust default to True\n",
            "  df = yf.download(symbol,\n"
          ]
        },
        {
          "output_type": "execute_result",
          "data": {
            "text/plain": [
              "[('TSLA', 0.47711755573292014),\n",
              " ('TM', 0.30518980425643516),\n",
              " ('VWAGY', 0.08110645540094337),\n",
              " ('GM', 0.07046438225267726),\n",
              " ('F', 0.06612180235702375)]"
            ]
          },
          "metadata": {},
          "execution_count": 36
        }
      ]
    }
  ]
}